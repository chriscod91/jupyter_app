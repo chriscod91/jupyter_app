{
 "cells": [
  {
   "cell_type": "code",
   "execution_count": 3,
   "id": "febbc6b6",
   "metadata": {},
   "outputs": [],
   "source": [
    "def reverse(mystring):\n",
    "    if len(mystring) == 1:\n",
    "        return mystring\n",
    "    last_char = mystring[len(mystring)-1]\n",
    "    # mystring = \"\".join([mystring[i]for i in range(len(mystring)-1)])\n",
    "    return last_char + reverse(mystring[:-1])"
   ]
  },
  {
   "cell_type": "code",
   "execution_count": 4,
   "id": "42977539",
   "metadata": {},
   "outputs": [
    {
     "name": "stdout",
     "output_type": "stream",
     "text": [
      "leafar\n"
     ]
    }
   ],
   "source": [
    "print(reverse(\"rafael\"))"
   ]
  },
  {
   "cell_type": "code",
   "execution_count": null,
   "id": "300e7083",
   "metadata": {},
   "outputs": [],
   "source": [
    "#function(list numbers):\n",
    "# list mynewlist of length(numbers) = [1, 1, ... 1]\n",
    "#for each index in numbers:\n",
    "# if index and index2 are different:\n",
    "# form each index2 in numbers:\n",
    "# mynewlist[index] = mynewlist[index]*mynewlist[index2]\n",
    "#return mynewlist"
   ]
  },
  {
   "cell_type": "code",
   "execution_count": 9,
   "id": "58f775a4",
   "metadata": {},
   "outputs": [],
   "source": [
    "def products(numbers): \n",
    "    mynewlist = []                                     # numbers = [1,2,3,4]\n",
    "    for index in range(len(numbers)):                  # index = 0, 1\n",
    "        mynewlist.append(1)                            # mynewlist = [24, 1]\n",
    "        for index2 in range(len(numbers)):             #index2 = 0, 1, 2\n",
    "            if index != index2:                        #  \n",
    "                mynewlist[index] *= numbers[index2]  #[mynewlist = [24, 1*1*3*4]\n",
    "    return mynewlist             "
   ]
  },
  {
   "cell_type": "code",
   "execution_count": 10,
   "id": "f2dbc703",
   "metadata": {},
   "outputs": [
    {
     "name": "stdout",
     "output_type": "stream",
     "text": [
      "[24, 12, 8, 6]\n"
     ]
    }
   ],
   "source": [
    "print(products([1, 2, 3, 4]))"
   ]
  },
  {
   "cell_type": "code",
   "execution_count": null,
   "id": "e1a1ba41",
   "metadata": {},
   "outputs": [],
   "source": [
    "class Stack: \n",
    "    def __init__(self):\n",
    "        self.items = []\n",
    "        \n",
    "    def is_empty(self):\n",
    "        return self.items.append(item)\n",
    "    \n",
    "    def push(self, item):\n",
    "        self.items.append(item)\n",
    "        \n",
    "    def pop(self):\n",
    "        return self.items.pop()\n",
    "    \n",
    "    def peek(self):\n",
    "        return self.items[len(self.items)-1]\n",
    "    \n",
    "    def size(self):\n",
    "        return len(self.items)"
   ]
  },
  {
   "cell_type": "code",
   "execution_count": 11,
   "id": "e6ca91b6",
   "metadata": {},
   "outputs": [],
   "source": [
    "def reverse_str(s):\n",
    "    # must use the stack class above\n",
    "    pass "
   ]
  },
  {
   "cell_type": "code",
   "execution_count": 12,
   "id": "d6a0f9d4",
   "metadata": {},
   "outputs": [],
   "source": [
    "def test_reverse_str():\n",
    "    assert reverse_str(\"racecar\") == reverse_str(\"racecar\")\n",
    "    assert reverse_str(\"SDGKU\") == reverse_str(\"UKGDS\")\n",
    "    assert reverse_str(\"PING PONG\") == reverse_str(\"GNOP GNIP\")"
   ]
  },
  {
   "cell_type": "code",
   "execution_count": 23,
   "id": "08f184c1",
   "metadata": {},
   "outputs": [],
   "source": [
    "def reverse_str(mystring):\n",
    "    stack = Stack()\n",
    "    new_string = \"\"\n",
    "    for letter in mystring:\n",
    "        stack.push(letter)\n",
    "    while not stack.is_empty():\n",
    "        new_string += stack.pop()\n",
    "    return new_string\n",
    "    "
   ]
  },
  {
   "cell_type": "code",
   "execution_count": 24,
   "id": "f91a9e9a",
   "metadata": {},
   "outputs": [
    {
     "ename": "NameError",
     "evalue": "name 'Stack' is not defined",
     "output_type": "error",
     "traceback": [
      "\u001b[0;31m---------------------------------------------------------------------------\u001b[0m",
      "\u001b[0;31mNameError\u001b[0m                                 Traceback (most recent call last)",
      "\u001b[0;32m/tmp/ipykernel_9936/2322711233.py\u001b[0m in \u001b[0;36m<module>\u001b[0;34m\u001b[0m\n\u001b[0;32m----> 1\u001b[0;31m \u001b[0mreverse_str\u001b[0m\u001b[0;34m(\u001b[0m\u001b[0;34m\"chris\"\u001b[0m\u001b[0;34m)\u001b[0m\u001b[0;34m\u001b[0m\u001b[0;34m\u001b[0m\u001b[0m\n\u001b[0m",
      "\u001b[0;32m/tmp/ipykernel_9936/1772760742.py\u001b[0m in \u001b[0;36mreverse_str\u001b[0;34m(mystring)\u001b[0m\n\u001b[1;32m      1\u001b[0m \u001b[0;32mdef\u001b[0m \u001b[0mreverse_str\u001b[0m\u001b[0;34m(\u001b[0m\u001b[0mmystring\u001b[0m\u001b[0;34m)\u001b[0m\u001b[0;34m:\u001b[0m\u001b[0;34m\u001b[0m\u001b[0;34m\u001b[0m\u001b[0m\n\u001b[0;32m----> 2\u001b[0;31m     \u001b[0mstack\u001b[0m \u001b[0;34m=\u001b[0m \u001b[0mStack\u001b[0m\u001b[0;34m(\u001b[0m\u001b[0;34m)\u001b[0m\u001b[0;34m\u001b[0m\u001b[0;34m\u001b[0m\u001b[0m\n\u001b[0m\u001b[1;32m      3\u001b[0m     \u001b[0mnew_string\u001b[0m \u001b[0;34m=\u001b[0m \u001b[0;34m\"\"\u001b[0m\u001b[0;34m\u001b[0m\u001b[0;34m\u001b[0m\u001b[0m\n\u001b[1;32m      4\u001b[0m     \u001b[0;32mfor\u001b[0m \u001b[0mletter\u001b[0m \u001b[0;32min\u001b[0m \u001b[0mmystring\u001b[0m\u001b[0;34m:\u001b[0m\u001b[0;34m\u001b[0m\u001b[0;34m\u001b[0m\u001b[0m\n\u001b[1;32m      5\u001b[0m         \u001b[0mstack\u001b[0m\u001b[0;34m.\u001b[0m\u001b[0mpush\u001b[0m\u001b[0;34m(\u001b[0m\u001b[0mletter\u001b[0m\u001b[0;34m)\u001b[0m\u001b[0;34m\u001b[0m\u001b[0;34m\u001b[0m\u001b[0m\n",
      "\u001b[0;31mNameError\u001b[0m: name 'Stack' is not defined"
     ]
    }
   ],
   "source": [
    "reverse_str(\"chris\")"
   ]
  },
  {
   "cell_type": "code",
   "execution_count": 22,
   "id": "9541af6a",
   "metadata": {},
   "outputs": [],
   "source": [
    "class Queue:\n",
    "    def __init__(self):\n",
    "        self.items = []\n",
    "        \n",
    "    def is_empty(self):\n",
    "        return self.items == []\n",
    "    \n",
    "    def enqueue(self, item):\n",
    "        self.items.insert(0, item)\n",
    "        \n",
    "    def dequeue(self):\n",
    "        return self.items.pop()\n",
    "    \n",
    "    def size(self):\n",
    "        return len(self.items)"
   ]
  },
  {
   "cell_type": "code",
   "execution_count": 35,
   "id": "bfc8d0ce",
   "metadata": {},
   "outputs": [],
   "source": [
    "from string import ascii_lowercase\n",
    "from random import randint, choice\n",
    "from time import sleep\n",
    "\n",
    "\n",
    "def register_visitors(visitor_queue):\n",
    "    for char in ascii_lowercase:\n",
    "        visitor_queue.enqueue(char)\n",
    " \n",
    "def service_customers(visitor_queue):\n",
    "    bank_tellers = [\"A\", \"b\", \"c\"]\n",
    "    while not visitor_queue.is_empty():\n",
    "        visitor = visitor_queue.dequeue()\n",
    "\n",
    "        print(\"thank you for waitiing %s, station %s is ready for you\"\n",
    "                % (visitor, choice(bank_teller)))\n",
    "        sleep(randint(1, 2))\n",
    "    print(\"empty visitor queue\")\n",
    "    \n",
    "def main():\n",
    "    visitor_queue = Queue()\n",
    "    register_visitors(visitor_queue)              # This should populate our queue.\n",
    "    register_customers(visitor_queue)\n"
   ]
  },
  {
   "cell_type": "code",
   "execution_count": 36,
   "id": "12496254",
   "metadata": {},
   "outputs": [
    {
     "ename": "NameError",
     "evalue": "name 'register_customers' is not defined",
     "output_type": "error",
     "traceback": [
      "\u001b[0;31m---------------------------------------------------------------------------\u001b[0m",
      "\u001b[0;31mNameError\u001b[0m                                 Traceback (most recent call last)",
      "\u001b[0;32m/tmp/ipykernel_9936/451043146.py\u001b[0m in \u001b[0;36m<module>\u001b[0;34m\u001b[0m\n\u001b[0;32m----> 1\u001b[0;31m \u001b[0mmain\u001b[0m\u001b[0;34m(\u001b[0m\u001b[0;34m)\u001b[0m\u001b[0;34m\u001b[0m\u001b[0;34m\u001b[0m\u001b[0m\n\u001b[0m",
      "\u001b[0;32m/tmp/ipykernel_9936/1955557343.py\u001b[0m in \u001b[0;36mmain\u001b[0;34m()\u001b[0m\n\u001b[1;32m     21\u001b[0m     \u001b[0mvisitor_queue\u001b[0m \u001b[0;34m=\u001b[0m \u001b[0mQueue\u001b[0m\u001b[0;34m(\u001b[0m\u001b[0;34m)\u001b[0m\u001b[0;34m\u001b[0m\u001b[0;34m\u001b[0m\u001b[0m\n\u001b[1;32m     22\u001b[0m     \u001b[0mregister_visitors\u001b[0m\u001b[0;34m(\u001b[0m\u001b[0mvisitor_queue\u001b[0m\u001b[0;34m)\u001b[0m              \u001b[0;31m# This should populate our queue.\u001b[0m\u001b[0;34m\u001b[0m\u001b[0;34m\u001b[0m\u001b[0m\n\u001b[0;32m---> 23\u001b[0;31m     \u001b[0mregister_customers\u001b[0m\u001b[0;34m(\u001b[0m\u001b[0mvisitor_queue\u001b[0m\u001b[0;34m)\u001b[0m\u001b[0;34m\u001b[0m\u001b[0;34m\u001b[0m\u001b[0m\n\u001b[0m",
      "\u001b[0;31mNameError\u001b[0m: name 'register_customers' is not defined"
     ]
    }
   ],
   "source": [
    "main()"
   ]
  },
  {
   "cell_type": "code",
   "execution_count": null,
   "id": "b7ab9163",
   "metadata": {},
   "outputs": [],
   "source": []
  }
 ],
 "metadata": {
  "kernelspec": {
   "display_name": "Python 3 (ipykernel)",
   "language": "python",
   "name": "python3"
  },
  "language_info": {
   "codemirror_mode": {
    "name": "ipython",
    "version": 3
   },
   "file_extension": ".py",
   "mimetype": "text/x-python",
   "name": "python",
   "nbconvert_exporter": "python",
   "pygments_lexer": "ipython3",
   "version": "3.8.5"
  }
 },
 "nbformat": 4,
 "nbformat_minor": 5
}
