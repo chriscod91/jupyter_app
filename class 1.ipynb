{
 "cells": [
  {
   "cell_type": "markdown",
   "id": "6faf45b7",
   "metadata": {},
   "source": [
    "for letter in \"hello, world\":\n",
    "    print (letter)"
   ]
  },
  {
   "cell_type": "markdown",
   "id": "e54cbe39",
   "metadata": {},
   "source": [
    "# problem 1\n",
    "### given two strings (string_a and strng_b) lets check whether or not they are anagrams of each other given the following criteria:\n",
    "\n",
    ">Two strings are only anagrams of each other if all conditions below are met:\n",
    "> * they must be exactly the same length.\n",
    "> * they must use exactly the same characters (no more, no less)\n"
   ]
  },
  {
   "cell_type": "code",
   "execution_count": 12,
   "id": "046b1cc0",
   "metadata": {},
   "outputs": [],
   "source": [
    "def is_anagram(string_a, string_b):\n",
    "    string_a = string_a.replace(\"\", \"\")\n",
    "    string_b = string_b.replace(\"\", \"\")\n",
    "    if len(string_a) != len(string_b):              #covering the length case\n",
    "        return False  \n",
    "    string_a = string_a.lower()\n",
    "    string_b = string_b.lower()                                                #simple edge case \n",
    "    char_times_a = dict()                           #lets use two dictionaries to count\n",
    "    char_times_b = dict()                           #we are counting the numbers of occurences per char.\n",
    "    for i in range(len(string_a)):                  #because we know these are of equal length,\n",
    "        if string_a[i] not in char_times_a.keys():  #we can simply count how many times we see each char. \n",
    "            char_times_a[string_a[i]] = 0\n",
    "        else:\n",
    "            char_times_a[string_a[i]] += 1\n",
    "        if string_b[i] not in char_times_b.keys():\n",
    "            char_times_b[string_b[i]] = 0           #it doesnt matter that these are accessing different chars\n",
    "        else:                                       #that it is accessing, as long as the final return statement is \n",
    "            char_times_b[string_b[i]] += 1          #equal length\n",
    "    return char_times_a == char_times_b"
   ]
  },
  {
   "cell_type": "code",
   "execution_count": 13,
   "id": "b8ead9fb",
   "metadata": {},
   "outputs": [
    {
     "data": {
      "text/plain": [
       "True"
      ]
     },
     "execution_count": 13,
     "metadata": {},
     "output_type": "execute_result"
    }
   ],
   "source": [
    "is_anagram(\"cars\", \"scar\")"
   ]
  },
  {
   "cell_type": "code",
   "execution_count": 8,
   "id": "03e31367",
   "metadata": {},
   "outputs": [
    {
     "data": {
      "text/plain": [
       "True"
      ]
     },
     "execution_count": 8,
     "metadata": {},
     "output_type": "execute_result"
    }
   ],
   "source": [
    "is_anagram(\"cars\", \"cars\")"
   ]
  },
  {
   "cell_type": "code",
   "execution_count": 9,
   "id": "97dac156",
   "metadata": {},
   "outputs": [
    {
     "data": {
      "text/plain": [
       "False"
      ]
     },
     "execution_count": 9,
     "metadata": {},
     "output_type": "execute_result"
    }
   ],
   "source": []
  },
  {
   "cell_type": "code",
   "execution_count": 10,
   "id": "9f2fd179",
   "metadata": {},
   "outputs": [
    {
     "data": {
      "text/plain": [
       "False"
      ]
     },
     "execution_count": 10,
     "metadata": {},
     "output_type": "execute_result"
    }
   ],
   "source": [
    "is_anagram(\"cars\", \"scar\")"
   ]
  },
  {
   "cell_type": "code",
   "execution_count": 11,
   "id": "53107dcb",
   "metadata": {},
   "outputs": [
    {
     "data": {
      "text/plain": [
       "False"
      ]
     },
     "execution_count": 11,
     "metadata": {},
     "output_type": "execute_result"
    }
   ],
   "source": [
    "is_anagram(\"cars\", \"scar\")"
   ]
  },
  {
   "cell_type": "code",
   "execution_count": 15,
   "id": "27242b18",
   "metadata": {},
   "outputs": [
    {
     "data": {
      "text/plain": [
       "False"
      ]
     },
     "execution_count": 15,
     "metadata": {},
     "output_type": "execute_result"
    }
   ],
   "source": [
    "is_anagram(\"iam lord voldamort\", \"tom marvolo riddle\")"
   ]
  },
  {
   "cell_type": "code",
   "execution_count": 18,
   "id": "da8be321",
   "metadata": {},
   "outputs": [
    {
     "data": {
      "text/plain": [
       "True"
      ]
     },
     "execution_count": 18,
     "metadata": {},
     "output_type": "execute_result"
    }
   ],
   "source": [
    "is_anagram(\"iam lord voldemort\", \"tom marvolo riddle\")"
   ]
  },
  {
   "cell_type": "code",
   "execution_count": null,
   "id": "8d0b236d",
   "metadata": {},
   "outputs": [],
   "source": []
  },
  {
   "cell_type": "code",
   "execution_count": null,
   "id": "4b16dbf4",
   "metadata": {},
   "outputs": [],
   "source": []
  }
 ],
 "metadata": {
  "kernelspec": {
   "display_name": "Python 3 (ipykernel)",
   "language": "python",
   "name": "python3"
  },
  "language_info": {
   "codemirror_mode": {
    "name": "ipython",
    "version": 3
   },
   "file_extension": ".py",
   "mimetype": "text/x-python",
   "name": "python",
   "nbconvert_exporter": "python",
   "pygments_lexer": "ipython3",
   "version": "3.8.5"
  }
 },
 "nbformat": 4,
 "nbformat_minor": 5
}
